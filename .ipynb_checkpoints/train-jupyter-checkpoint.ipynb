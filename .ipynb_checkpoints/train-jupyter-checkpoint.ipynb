{
 "cells": [
  {
   "cell_type": "code",
   "execution_count": null,
   "id": "disabled-house",
   "metadata": {},
   "outputs": [],
   "source": [
    "!python main.py --ctrp \"C:/Users/user/Desktop/bash/dataset/train/cover\" --ctep \"C:/Users/user/Desktop/bash/dataset/test/cover\" --strp \"C:/Users/user/Desktop/bash/dataset/train/stego\" --step \"C:/Users/user/Desktop/bash/dataset/test/stego\" --model_version 1.0.0 --nc 2 --ne 3 --bs 16 --shuffle  --op saved_weights -v 1"
   ]
  },
  {
   "cell_type": "code",
   "execution_count": null,
   "id": "accepted-pharmacology",
   "metadata": {},
   "outputs": [],
   "source": [
    "#predicting train time\n",
    "def traintime():\n",
    "    f = open(\"train_time.txt\", \"r\")\n",
    "    print(f'the training time is {f.read()} seconde')\n",
    "    f.close()\n",
    "traintime()"
   ]
  },
  {
   "cell_type": "code",
   "execution_count": null,
   "id": "experienced-color",
   "metadata": {},
   "outputs": [],
   "source": [
    "#showing result\n",
    "import cv2\n",
    "def showing(date):\n",
    "    image = cv2.imread('C:/Users/user/Desktop/bash/saved_weights/'+date+'/result.png')\n",
    "    image=cv2.resize(image,(1000,700))\n",
    "    cv2.imshow('result',image)\n",
    "    cv2.waitKey(0)\n",
    "    cv2.destroyAllWindows()\n",
    "    #time.sleep(30)\n",
    "showing(\"2021_07_11\") "
   ]
  }
 ],
 "metadata": {
  "kernelspec": {
   "display_name": "Python 3",
   "language": "python",
   "name": "python3"
  },
  "language_info": {
   "codemirror_mode": {
    "name": "ipython",
    "version": 3
   },
   "file_extension": ".py",
   "mimetype": "text/x-python",
   "name": "python",
   "nbconvert_exporter": "python",
   "pygments_lexer": "ipython3",
   "version": "3.7.0"
  }
 },
 "nbformat": 4,
 "nbformat_minor": 5
}
