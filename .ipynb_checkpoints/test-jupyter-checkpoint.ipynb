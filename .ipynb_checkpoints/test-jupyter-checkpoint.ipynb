{
 "cells": [
  {
   "cell_type": "code",
   "execution_count": 3,
   "id": "17c11eb8",
   "metadata": {},
   "outputs": [],
   "source": [
    "#for test\n",
    "import sys\n",
    "import time\n",
    "import pandas as pd\n",
    "import numpy as np\n",
    "from keras.models import load_model\n",
    "from PIL import Image\n",
    "import cv2 \n",
    "import imutils \n",
    "from filters import filters\n",
    "\n",
    "\n",
    "def test_time(start,end):\n",
    "    print(f\"the executation time is {end-start} seconde\")\n",
    "    \n",
    "def loss_accuracy(date):\n",
    "    #read csv file\n",
    "    #show result(train loss,train accuracy,test loss,test accuracy) \n",
    "    df = pd.read_csv(\"C:/Users/user/Desktop/bash/saved_weights/\"+date+\"/log.csv\")       \n",
    "    print(f'end of train&test phase are:\\ntrain accuracy: {df[\"accuracy\"].iloc[-1]}\\ntrain loss: {df[\"loss\"].iloc[-1]}\\ntest accuracy: {df[\"val_accuracy\"].iloc[-1]}\\ntest loss: {df[\"val_loss\"].iloc[-1]}')\n",
    "        \n",
    "def prediction(path):\n",
    "    start = time.time()\n",
    "    #load model\n",
    "    model = load_model('C:/Users/user/Desktop/bash/saved_weights/2021_07_11/final.hd5',custom_objects={'filters': filters})\n",
    "    #load test image\n",
    "    image = Image.open(path)\n",
    "    #preprocess test image\n",
    "    orig=image.resize((512,512))\n",
    "    image = np.expand_dims(image, axis=0)\n",
    "    image = np.expand_dims(image, axis=3)\n",
    "    #model prediction\n",
    "    (stego,cover) = model.predict(image)[0]\n",
    "    label = \"Stego\" if stego > cover else \"Cover\"\n",
    "    proba = stego if stego > cover else cover\n",
    "    label = \"{}: {:.2f}%\".format(label, proba * 100)\n",
    "    #draw the label on the image\n",
    "    orig.save(\"steganalysis_result.jpg\")\n",
    "    output = cv2.imread(\"steganalysis_result.jpg\")\n",
    "    output = imutils.resize(output, width=400)\n",
    "    cv2.putText(output, label, (10, 25),  cv2.FONT_HERSHEY_SIMPLEX,0.7, (0, 255, 0), 2)\n",
    "    #show the output image\n",
    "    cv2.imshow(\"Output\", output)\n",
    "    end = time.time()\n",
    "    cv2.waitKey(0)\n",
    "    cv2.destroyAllWindows()  \n",
    "    return (start,end)\n"
   ]
  },
  {
   "cell_type": "code",
   "execution_count": 5,
   "id": "f1cb2791",
   "metadata": {},
   "outputs": [],
   "source": [
    "(start_time,end_time)=prediction(\"C:/Users/user/Desktop/bash/dataset/test/stego/350.pgm\")"
   ]
  },
  {
   "cell_type": "code",
   "execution_count": 6,
   "id": "f68e75ea",
   "metadata": {},
   "outputs": [
    {
     "name": "stdout",
     "output_type": "stream",
     "text": [
      "the executation time is 0.6104576587677002 seconde\n"
     ]
    }
   ],
   "source": [
    "test_time(start_time,end_time)"
   ]
  },
  {
   "cell_type": "code",
   "execution_count": 7,
   "id": "aac78210",
   "metadata": {},
   "outputs": [
    {
     "name": "stdout",
     "output_type": "stream",
     "text": [
      "end of train&test phase are:\n",
      "train accuracy: 0.97485715\n",
      "train loss: 0.0735855413386598\n",
      "test accuracy: 0.9963571429252625\n",
      "test loss: 0.0162856332792767\n"
     ]
    }
   ],
   "source": [
    "loss_accuracy(\"2021_07_11\")"
   ]
  },
  {
   "cell_type": "code",
   "execution_count": null,
   "id": "ec4bdc6d",
   "metadata": {},
   "outputs": [],
   "source": []
  }
 ],
 "metadata": {
  "kernelspec": {
   "display_name": "Python 3",
   "language": "python",
   "name": "python3"
  },
  "language_info": {
   "codemirror_mode": {
    "name": "ipython",
    "version": 3
   },
   "file_extension": ".py",
   "mimetype": "text/x-python",
   "name": "python",
   "nbconvert_exporter": "python",
   "pygments_lexer": "ipython3",
   "version": "3.8.8"
  }
 },
 "nbformat": 4,
 "nbformat_minor": 5
}
